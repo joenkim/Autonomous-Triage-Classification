{
 "cells": [
  {
   "cell_type": "code",
   "execution_count": 1,
   "metadata": {},
   "outputs": [],
   "source": [
    "%matplotlib inline\n",
    "\n",
    "import numpy as np\n",
    "import matplotlib.pyplot as plt\n",
    "import pandas as pd"
   ]
  },
  {
   "cell_type": "code",
   "execution_count": 167,
   "metadata": {},
   "outputs": [
    {
     "data": {
      "text/html": [
       "<div>\n",
       "<style scoped>\n",
       "    .dataframe tbody tr th:only-of-type {\n",
       "        vertical-align: middle;\n",
       "    }\n",
       "\n",
       "    .dataframe tbody tr th {\n",
       "        vertical-align: top;\n",
       "    }\n",
       "\n",
       "    .dataframe thead th {\n",
       "        text-align: right;\n",
       "    }\n",
       "</style>\n",
       "<table border=\"1\" class=\"dataframe\">\n",
       "  <thead>\n",
       "    <tr style=\"text-align: right;\">\n",
       "      <th></th>\n",
       "      <th>age</th>\n",
       "      <th>gender</th>\n",
       "      <th>blood pressure</th>\n",
       "      <th>cholesterol</th>\n",
       "      <th>max heart rate</th>\n",
       "      <th>exercise angina</th>\n",
       "      <th>plasma glucose</th>\n",
       "      <th>skin thickness</th>\n",
       "      <th>insulin</th>\n",
       "      <th>bmi</th>\n",
       "      <th>diabetes pedigree</th>\n",
       "      <th>hyper tension</th>\n",
       "      <th>heart disease</th>\n",
       "      <th>smoking status</th>\n",
       "      <th>triage</th>\n",
       "    </tr>\n",
       "  </thead>\n",
       "  <tbody>\n",
       "    <tr>\n",
       "      <th>307</th>\n",
       "      <td>68</td>\n",
       "      <td>1.0</td>\n",
       "      <td>145</td>\n",
       "      <td>182</td>\n",
       "      <td>148</td>\n",
       "      <td>0</td>\n",
       "      <td>97.00</td>\n",
       "      <td>36</td>\n",
       "      <td>111</td>\n",
       "      <td>19.0</td>\n",
       "      <td>0.467386</td>\n",
       "      <td>0</td>\n",
       "      <td>0</td>\n",
       "      <td>2</td>\n",
       "      <td>yellow</td>\n",
       "    </tr>\n",
       "    <tr>\n",
       "      <th>1653</th>\n",
       "      <td>66</td>\n",
       "      <td>1.0</td>\n",
       "      <td>64</td>\n",
       "      <td>152</td>\n",
       "      <td>154</td>\n",
       "      <td>0</td>\n",
       "      <td>84.00</td>\n",
       "      <td>23</td>\n",
       "      <td>115</td>\n",
       "      <td>29.9</td>\n",
       "      <td>0.471000</td>\n",
       "      <td>0</td>\n",
       "      <td>0</td>\n",
       "      <td>2</td>\n",
       "      <td>yellow</td>\n",
       "    </tr>\n",
       "    <tr>\n",
       "      <th>738</th>\n",
       "      <td>51</td>\n",
       "      <td>0.0</td>\n",
       "      <td>130</td>\n",
       "      <td>256</td>\n",
       "      <td>149</td>\n",
       "      <td>0</td>\n",
       "      <td>123.00</td>\n",
       "      <td>34</td>\n",
       "      <td>120</td>\n",
       "      <td>23.0</td>\n",
       "      <td>0.467386</td>\n",
       "      <td>0</td>\n",
       "      <td>0</td>\n",
       "      <td>2</td>\n",
       "      <td>yellow</td>\n",
       "    </tr>\n",
       "    <tr>\n",
       "      <th>709</th>\n",
       "      <td>54</td>\n",
       "      <td>1.0</td>\n",
       "      <td>125</td>\n",
       "      <td>294</td>\n",
       "      <td>152</td>\n",
       "      <td>0</td>\n",
       "      <td>89.00</td>\n",
       "      <td>43</td>\n",
       "      <td>132</td>\n",
       "      <td>18.0</td>\n",
       "      <td>0.467386</td>\n",
       "      <td>0</td>\n",
       "      <td>0</td>\n",
       "      <td>2</td>\n",
       "      <td>yellow</td>\n",
       "    </tr>\n",
       "    <tr>\n",
       "      <th>2920</th>\n",
       "      <td>82</td>\n",
       "      <td>0.0</td>\n",
       "      <td>129</td>\n",
       "      <td>195</td>\n",
       "      <td>164</td>\n",
       "      <td>0</td>\n",
       "      <td>96.63</td>\n",
       "      <td>98</td>\n",
       "      <td>138</td>\n",
       "      <td>26.5</td>\n",
       "      <td>0.467386</td>\n",
       "      <td>0</td>\n",
       "      <td>0</td>\n",
       "      <td>0</td>\n",
       "      <td>yellow</td>\n",
       "    </tr>\n",
       "    <tr>\n",
       "      <th>5269</th>\n",
       "      <td>80</td>\n",
       "      <td>0.0</td>\n",
       "      <td>107</td>\n",
       "      <td>178</td>\n",
       "      <td>143</td>\n",
       "      <td>0</td>\n",
       "      <td>103.60</td>\n",
       "      <td>81</td>\n",
       "      <td>81</td>\n",
       "      <td>23.7</td>\n",
       "      <td>0.467386</td>\n",
       "      <td>1</td>\n",
       "      <td>0</td>\n",
       "      <td>2</td>\n",
       "      <td>yellow</td>\n",
       "    </tr>\n",
       "    <tr>\n",
       "      <th>2138</th>\n",
       "      <td>58</td>\n",
       "      <td>0.0</td>\n",
       "      <td>82</td>\n",
       "      <td>193</td>\n",
       "      <td>185</td>\n",
       "      <td>0</td>\n",
       "      <td>94.09</td>\n",
       "      <td>34</td>\n",
       "      <td>98</td>\n",
       "      <td>30.9</td>\n",
       "      <td>0.467386</td>\n",
       "      <td>0</td>\n",
       "      <td>0</td>\n",
       "      <td>2</td>\n",
       "      <td>yellow</td>\n",
       "    </tr>\n",
       "    <tr>\n",
       "      <th>3860</th>\n",
       "      <td>60</td>\n",
       "      <td>1.0</td>\n",
       "      <td>93</td>\n",
       "      <td>167</td>\n",
       "      <td>138</td>\n",
       "      <td>0</td>\n",
       "      <td>57.02</td>\n",
       "      <td>67</td>\n",
       "      <td>128</td>\n",
       "      <td>20.7</td>\n",
       "      <td>0.467386</td>\n",
       "      <td>0</td>\n",
       "      <td>0</td>\n",
       "      <td>0</td>\n",
       "      <td>yellow</td>\n",
       "    </tr>\n",
       "    <tr>\n",
       "      <th>255</th>\n",
       "      <td>59</td>\n",
       "      <td>1.0</td>\n",
       "      <td>130</td>\n",
       "      <td>231</td>\n",
       "      <td>165</td>\n",
       "      <td>0</td>\n",
       "      <td>93.00</td>\n",
       "      <td>60</td>\n",
       "      <td>106</td>\n",
       "      <td>23.0</td>\n",
       "      <td>0.467386</td>\n",
       "      <td>0</td>\n",
       "      <td>0</td>\n",
       "      <td>2</td>\n",
       "      <td>yellow</td>\n",
       "    </tr>\n",
       "    <tr>\n",
       "      <th>5174</th>\n",
       "      <td>58</td>\n",
       "      <td>0.0</td>\n",
       "      <td>113</td>\n",
       "      <td>171</td>\n",
       "      <td>169</td>\n",
       "      <td>0</td>\n",
       "      <td>83.93</td>\n",
       "      <td>72</td>\n",
       "      <td>122</td>\n",
       "      <td>25.6</td>\n",
       "      <td>0.467386</td>\n",
       "      <td>0</td>\n",
       "      <td>0</td>\n",
       "      <td>1</td>\n",
       "      <td>yellow</td>\n",
       "    </tr>\n",
       "  </tbody>\n",
       "</table>\n",
       "</div>"
      ],
      "text/plain": [
       "      age  gender  blood pressure  cholesterol  max heart rate  \\\n",
       "307    68     1.0             145          182             148   \n",
       "1653   66     1.0              64          152             154   \n",
       "738    51     0.0             130          256             149   \n",
       "709    54     1.0             125          294             152   \n",
       "2920   82     0.0             129          195             164   \n",
       "5269   80     0.0             107          178             143   \n",
       "2138   58     0.0              82          193             185   \n",
       "3860   60     1.0              93          167             138   \n",
       "255    59     1.0             130          231             165   \n",
       "5174   58     0.0             113          171             169   \n",
       "\n",
       "      exercise angina  plasma glucose  skin thickness  insulin   bmi  \\\n",
       "307                 0           97.00              36      111  19.0   \n",
       "1653                0           84.00              23      115  29.9   \n",
       "738                 0          123.00              34      120  23.0   \n",
       "709                 0           89.00              43      132  18.0   \n",
       "2920                0           96.63              98      138  26.5   \n",
       "5269                0          103.60              81       81  23.7   \n",
       "2138                0           94.09              34       98  30.9   \n",
       "3860                0           57.02              67      128  20.7   \n",
       "255                 0           93.00              60      106  23.0   \n",
       "5174                0           83.93              72      122  25.6   \n",
       "\n",
       "      diabetes pedigree  hyper tension  heart disease  smoking status  triage  \n",
       "307            0.467386              0              0               2  yellow  \n",
       "1653           0.471000              0              0               2  yellow  \n",
       "738            0.467386              0              0               2  yellow  \n",
       "709            0.467386              0              0               2  yellow  \n",
       "2920           0.467386              0              0               0  yellow  \n",
       "5269           0.467386              1              0               2  yellow  \n",
       "2138           0.467386              0              0               2  yellow  \n",
       "3860           0.467386              0              0               0  yellow  \n",
       "255            0.467386              0              0               2  yellow  \n",
       "5174           0.467386              0              0               1  yellow  "
      ]
     },
     "execution_count": 167,
     "metadata": {},
     "output_type": "execute_result"
    }
   ],
   "source": [
    "data = pd.read_csv('og6K.csv') # loading dataset\n",
    "\n",
    "#drop rows with empty values and unnecessary columns\n",
    "data = data.dropna(axis=0,how='any')\n",
    "data.drop(['Residence_type'],axis=1,inplace=True)\n",
    "data.drop(['chest pain type'],axis=1,inplace=True)\n",
    "data.drop(['Unnamed: 0'],axis=1,inplace=True)\n",
    "\n",
    "data.rename(columns={\n",
    "    'skin_thickness':'skin thickness', \n",
    "    'hypertension':'hyper tension',\n",
    "    'heart_disease':'heart disease',\n",
    "    'smoking_status':'smoking status',\n",
    "    'diabetes_pedigree':'diabetes pedigree'}, inplace=True)\n",
    "\n",
    "data.loc[data['triage'] == \"red\", 'triage'] = \"immediate\"\n",
    "data.loc[data['triage'] == \"orange\", 'triage'] = \"immediate\"\n",
    "for key in ['smoking status']:\n",
    "    data[key] = pd.Categorical(data[key])\n",
    "    data[key] = data[key].cat.codes\n",
    "\n",
    "data.sample(n=10)"
   ]
  },
  {
   "cell_type": "code",
   "execution_count": 168,
   "metadata": {},
   "outputs": [
    {
     "name": "stdout",
     "output_type": "stream",
     "text": [
      "      age  gender  blood pressure  cholesterol  max heart rate  \\\n",
      "2585   49     1.0             117          193             150   \n",
      "3998   49     1.0             125          184             185   \n",
      "2079   74     1.0              94          165             182   \n",
      "2920   82     0.0             129          195             164   \n",
      "1804   45     1.0              78          192             174   \n",
      "...   ...     ...             ...          ...             ...   \n",
      "4931   49     1.0             106          188             175   \n",
      "3264   82     1.0              82          181             186   \n",
      "1653   66     1.0              64          152             154   \n",
      "2607   64     0.0             139          185             142   \n",
      "2732   58     1.0             118          187             158   \n",
      "\n",
      "      exercise angina  plasma glucose  skin thickness  insulin   bmi  \\\n",
      "2585                0           70.78              77      104  20.3   \n",
      "3998                0          108.33              75      110  17.4   \n",
      "2079                0           60.98              39       90  27.5   \n",
      "2920                0           96.63              98      138  26.5   \n",
      "1804                0          173.00              39      111  29.5   \n",
      "...               ...             ...             ...      ...   ...   \n",
      "4931                0           98.65              77      112  20.1   \n",
      "3264                0          107.29              39      124  33.3   \n",
      "1653                0           84.00              23      115  29.9   \n",
      "2607                0           82.69              35      104  27.4   \n",
      "2732                0          194.04              54       82  27.8   \n",
      "\n",
      "      diabetes pedigree  hyper tension  heart disease  smoking status  \n",
      "2585           0.467386              0              0               0  \n",
      "3998           0.467386              0              0               2  \n",
      "2079           0.467386              0              0               2  \n",
      "2920           0.467386              0              0               0  \n",
      "1804           0.970000              0              0               2  \n",
      "...                 ...            ...            ...             ...  \n",
      "4931           0.467386              0              0               0  \n",
      "3264           0.467386              1              0               2  \n",
      "1653           0.471000              0              0               2  \n",
      "2607           0.467386              0              0               0  \n",
      "2732           0.467386              0              0               2  \n",
      "\n",
      "[4872 rows x 14 columns]\n",
      "['white' 'immediate' 'yellow' 'green']\n",
      "['yellow' 'green' 'immediate' 'white']\n"
     ]
    }
   ],
   "source": [
    "from sklearn.model_selection import train_test_split\n",
    "\n",
    "# We split the data up into a test set and a training set, 30 - 70 %\n",
    "# train_test_split\n",
    "# First argument: x data is all data without class column\n",
    "# Second argument:  this is the class label column\n",
    "# Random state = 0: ensures the train and test splitting is deterministic. \n",
    "#Otherwise every student would get a different train test split.\n",
    "X_train, X_test, y_train, y_test = train_test_split(data.drop('triage',1), \n",
    "                                                    data['triage'],\n",
    "                                                    test_size=0.3,\n",
    "                                                    random_state=0)\n",
    "print(X_train)\n",
    "print(y_train.unique())\n",
    "print(y_test.unique())"
   ]
  },
  {
   "cell_type": "code",
   "execution_count": 169,
   "metadata": {},
   "outputs": [],
   "source": [
    "from sklearn.preprocessing import MinMaxScaler\n",
    "\n",
    "# define a new scaler: \n",
    "x_scaler = MinMaxScaler()\n",
    "\n",
    "# fit the normalization on the training set: \n",
    "x_scaler.fit(X_train)\n",
    "\n",
    "# then create new and normalized training/test sets: \n",
    "X_train_norm = x_scaler.transform(X_train)\n",
    "X_test_norm = x_scaler.transform(X_test)"
   ]
  },
  {
   "cell_type": "code",
   "execution_count": 170,
   "metadata": {},
   "outputs": [],
   "source": [
    "from sklearn.metrics import classification_report, confusion_matrix\n",
    "\n",
    "def evaluate_on_training_set(y_test, y_pred):\n",
    "  # print out recall and precision\n",
    "  labels = [\"immediate\",\"yellow\",\"green\",\"white\"]\n",
    "  print(classification_report(y_test, y_pred,labels=labels))\n",
    "  \n",
    "  # print out confusion matrix\n",
    "  print(\"Confusion Matrix: \\n\", confusion_matrix(y_test, y_pred,labels=labels))"
   ]
  },
  {
   "attachments": {},
   "cell_type": "markdown",
   "metadata": {},
   "source": [
    "## Decision Trees\n",
    "\n"
   ]
  },
  {
   "cell_type": "code",
   "execution_count": 228,
   "metadata": {},
   "outputs": [
    {
     "data": {
      "text/plain": [
       "DecisionTreeClassifier(max_depth=10)"
      ]
     },
     "execution_count": 228,
     "metadata": {},
     "output_type": "execute_result"
    }
   ],
   "source": [
    "# from sklearn.tree import DecisionTreeClassifier\n",
    "from sklearn import tree\n",
    "\n",
    "model = tree.DecisionTreeClassifier(max_depth=10, min_samples_leaf=1) \n",
    "\n",
    "model.fit(X_train, y_train)# Training model"
   ]
  },
  {
   "cell_type": "code",
   "execution_count": 229,
   "metadata": {},
   "outputs": [
    {
     "name": "stdout",
     "output_type": "stream",
     "text": [
      "              precision    recall  f1-score   support\n",
      "\n",
      "   immediate       0.81      0.93      0.87       126\n",
      "      yellow       0.99      0.98      0.99      1695\n",
      "       green       1.00      0.99      1.00       137\n",
      "       white       0.96      0.96      0.96       131\n",
      "\n",
      "    accuracy                           0.98      2089\n",
      "   macro avg       0.94      0.97      0.95      2089\n",
      "weighted avg       0.98      0.98      0.98      2089\n",
      "\n",
      "Confusion Matrix: \n",
      " [[ 117    7    0    2]\n",
      " [  24 1668    0    3]\n",
      " [   0    1  136    0]\n",
      " [   3    2    0  126]]\n"
     ]
    }
   ],
   "source": [
    "y_pred = model.predict(X_test) # Predicting labels for our test set using model\n",
    "evaluate_on_training_set(y_test, y_pred) #evaluate our model using new function"
   ]
  },
  {
   "attachments": {},
   "cell_type": "markdown",
   "metadata": {},
   "source": [
    "## K Nearest Neighbors"
   ]
  },
  {
   "cell_type": "code",
   "execution_count": 181,
   "metadata": {},
   "outputs": [],
   "source": [
    "from sklearn.neighbors import KNeighborsClassifier\n",
    "\n",
    "model = KNeighborsClassifier(n_neighbors=5) # Define the model with parameters"
   ]
  },
  {
   "cell_type": "code",
   "execution_count": 182,
   "metadata": {},
   "outputs": [
    {
     "name": "stdout",
     "output_type": "stream",
     "text": [
      "              precision    recall  f1-score   support\n",
      "\n",
      "   immediate       0.48      0.36      0.41       126\n",
      "      yellow       0.89      0.96      0.92      1695\n",
      "       green       0.97      0.74      0.84       137\n",
      "       white       0.48      0.29      0.36       131\n",
      "\n",
      "    accuracy                           0.86      2089\n",
      "   macro avg       0.71      0.59      0.63      2089\n",
      "weighted avg       0.85      0.86      0.85      2089\n",
      "\n",
      "Confusion Matrix: \n",
      " [[  45   76    0    5]\n",
      " [  36 1622    3   34]\n",
      " [   0   34  101    2]\n",
      " [  12   81    0   38]]\n"
     ]
    },
    {
     "name": "stderr",
     "output_type": "stream",
     "text": [
      "c:\\Users\\joen\\anaconda3\\lib\\site-packages\\sklearn\\neighbors\\_classification.py:189: FutureWarning: Unlike other reduction functions (e.g. `skew`, `kurtosis`), the default behavior of `mode` typically preserves the axis it acts along. In SciPy 1.11.0, this behavior will change: the default value of `keepdims` will become False, the `axis` over which the statistic is taken will be eliminated, and the value None will no longer be accepted. Set `keepdims` to True or False to avoid this warning.\n",
      "  mode, _ = stats.mode(_y[neigh_ind, k], axis=1)\n"
     ]
    }
   ],
   "source": [
    "model.fit(X_train_norm, y_train) # Training the model\n",
    "\n",
    "# Evaluate the model: \n",
    "y_pred = model.predict(X_test_norm) # Predicting labels for our test set using trained model\n",
    "evaluate_on_training_set(y_test, y_pred) #evaluate our model using newly defined function"
   ]
  },
  {
   "attachments": {},
   "cell_type": "markdown",
   "metadata": {},
   "source": [
    "## Logistic Regression\n",
    "Let's move on to a very powerful, yet fast model: Logistic Regression. Again, we start by loading the library and defining the model together with its parameters. \n",
    "\n",
    "In this case, multi_class auto will detect the number of classes automatically, C is our regularisation parameter, and solver is the optimization algorithm used to fit the model: \n",
    "* For small datasets, ‘liblinear’ is a good choice, whereas ‘sag’ and ‘saga’ are faster for large ones.\n",
    "* For multiclass problems, only ‘newton-cg’, ‘sag’, ‘saga’ and ‘lbfgs’ handle multinomial loss; ‘liblinear’ is limited to one-versus-rest schemes.\n",
    "* ‘newton-cg’, ‘lbfgs’, ‘sag’ and ‘saga’ handle L2 or no penalty\n",
    "* ‘liblinear’ and ‘saga’ also handle L1 penalty\n",
    "* ‘saga’ also supports ‘elasticnet’ penalty\n",
    "* ‘liblinear’ does not handle no penalty"
   ]
  },
  {
   "cell_type": "code",
   "execution_count": 234,
   "metadata": {},
   "outputs": [],
   "source": [
    "from sklearn.linear_model import LogisticRegression\n",
    "model = LogisticRegression(C=2, multi_class='auto', solver='sag') "
   ]
  },
  {
   "cell_type": "code",
   "execution_count": 235,
   "metadata": {},
   "outputs": [
    {
     "name": "stdout",
     "output_type": "stream",
     "text": [
      "              precision    recall  f1-score   support\n",
      "\n",
      "   immediate       0.63      0.47      0.54       126\n",
      "      yellow       0.93      0.98      0.95      1695\n",
      "       green       0.97      0.90      0.93       137\n",
      "       white       0.72      0.48      0.58       131\n",
      "\n",
      "    accuracy                           0.91      2089\n",
      "   macro avg       0.81      0.71      0.75      2089\n",
      "weighted avg       0.90      0.91      0.90      2089\n",
      "\n",
      "Confusion Matrix: \n",
      " [[  59   54    0   13]\n",
      " [  25 1656    2   12]\n",
      " [   0   14  123    0]\n",
      " [   9   57    2   63]]\n"
     ]
    }
   ],
   "source": [
    "model.fit(X_train_norm, y_train) # Training the model\n",
    "\n",
    "y_pred = model.predict(X_test_norm) # Predicting labels for our test set using trained model\n",
    "evaluate_on_training_set(y_test, y_pred) #evaluate our model using newly defined function"
   ]
  },
  {
   "attachments": {},
   "cell_type": "markdown",
   "metadata": {},
   "source": [
    "## Gaussian Naive Bayes"
   ]
  },
  {
   "cell_type": "code",
   "execution_count": 203,
   "metadata": {},
   "outputs": [],
   "source": [
    "from sklearn.naive_bayes import GaussianNB\n",
    "model = GaussianNB() # Define the model with parameters"
   ]
  },
  {
   "cell_type": "code",
   "execution_count": 204,
   "metadata": {},
   "outputs": [
    {
     "name": "stdout",
     "output_type": "stream",
     "text": [
      "              precision    recall  f1-score   support\n",
      "\n",
      "   immediate       0.15      1.00      0.26       126\n",
      "      yellow       1.00      0.55      0.71      1695\n",
      "       green       0.44      1.00      0.61       137\n",
      "       white       0.13      0.02      0.03       131\n",
      "\n",
      "    accuracy                           0.57      2089\n",
      "   macro avg       0.43      0.64      0.40      2089\n",
      "weighted avg       0.86      0.57      0.63      2089\n",
      "\n",
      "Confusion Matrix: \n",
      " [[126   0   0   0]\n",
      " [574 936 172  13]\n",
      " [  0   0 137   0]\n",
      " [125   3   1   2]]\n"
     ]
    }
   ],
   "source": [
    "model.fit(X_train_norm, y_train) # Training the model\n",
    "\n",
    "y_pred = model.predict(X_test_norm) # Predicting labels for our test set using trained model\n",
    "evaluate_on_training_set(y_test, y_pred) #evaluate our model using newly defined function"
   ]
  },
  {
   "attachments": {},
   "cell_type": "markdown",
   "metadata": {},
   "source": [
    "## SVM\n",
    "The kernel can be: ‘linear’, ‘poly’, ‘rbf’, ‘sigmoid’, ‘precomputed’. If none is given, ‘rbf’ will be used."
   ]
  },
  {
   "cell_type": "code",
   "execution_count": 238,
   "metadata": {},
   "outputs": [
    {
     "data": {
      "text/plain": [
       "SVC(C=10, gamma='auto', kernel='poly')"
      ]
     },
     "execution_count": 238,
     "metadata": {},
     "output_type": "execute_result"
    }
   ],
   "source": [
    "from sklearn.svm import SVC\n",
    "model = SVC(C=10, gamma='auto', kernel='poly')\n",
    "model.fit(X_train_norm, y_train)"
   ]
  },
  {
   "cell_type": "code",
   "execution_count": 239,
   "metadata": {},
   "outputs": [
    {
     "name": "stdout",
     "output_type": "stream",
     "text": [
      "              precision    recall  f1-score   support\n",
      "\n",
      "   immediate       0.00      0.00      0.00       126\n",
      "      yellow       0.85      1.00      0.92      1695\n",
      "       green       0.99      0.66      0.79       137\n",
      "       white       0.00      0.00      0.00       131\n",
      "\n",
      "    accuracy                           0.85      2089\n",
      "   macro avg       0.46      0.41      0.43      2089\n",
      "weighted avg       0.75      0.85      0.80      2089\n",
      "\n",
      "Confusion Matrix: \n",
      " [[   0  126    0    0]\n",
      " [   0 1694    1    0]\n",
      " [   0   47   90    0]\n",
      " [   0  131    0    0]]\n"
     ]
    },
    {
     "name": "stderr",
     "output_type": "stream",
     "text": [
      "c:\\Users\\joen\\anaconda3\\lib\\site-packages\\sklearn\\metrics\\_classification.py:1221: UndefinedMetricWarning: Precision and F-score are ill-defined and being set to 0.0 in labels with no predicted samples. Use `zero_division` parameter to control this behavior.\n",
      "  _warn_prf(average, modifier, msg_start, len(result))\n"
     ]
    }
   ],
   "source": [
    "model.fit(X_train_norm, y_train) # Training SVM\n",
    "\n",
    "y_pred = model.predict(X_test_norm) # Predicting labels for our test set using trained model\n",
    "evaluate_on_training_set(y_test, y_pred) #evaluate our model using newly defined function"
   ]
  },
  {
   "attachments": {},
   "cell_type": "markdown",
   "metadata": {},
   "source": [
    "### gridsearch\n",
    "* with kernel rbf, try varying gamma (which is a coefficient in the rbf kernel) to be 1e-3 or 1e-4; and vary C to be 1, 10, or 100.\n",
    "* with linear kernel (there is no gamma here), try varying C to be 1, 10, and 100."
   ]
  },
  {
   "cell_type": "code",
   "execution_count": 209,
   "metadata": {},
   "outputs": [],
   "source": [
    "from sklearn.model_selection import GridSearchCV\n",
    "\n",
    "tuned_parameters = [{'kernel': ['rbf'], \n",
    "                     'gamma': [1e-3, 1e-4],\n",
    "                     'C': [1, 10, 100]},\n",
    "                    {'kernel': ['linear'],\n",
    "                     'C': [1, 10, 100]}]"
   ]
  },
  {
   "cell_type": "code",
   "execution_count": 212,
   "metadata": {},
   "outputs": [
    {
     "name": "stdout",
     "output_type": "stream",
     "text": [
      "Fitting 3 folds for each of 9 candidates, totalling 27 fits\n"
     ]
    },
    {
     "name": "stderr",
     "output_type": "stream",
     "text": [
      "[Parallel(n_jobs=4)]: Using backend LokyBackend with 4 concurrent workers.\n",
      "[Parallel(n_jobs=4)]: Done  20 out of  27 | elapsed:    0.7s remaining:    0.2s\n",
      "[Parallel(n_jobs=4)]: Done  27 out of  27 | elapsed:    0.9s finished\n"
     ]
    },
    {
     "data": {
      "text/plain": [
       "GridSearchCV(cv=3, estimator=SVC(), n_jobs=4,\n",
       "             param_grid=[{'C': [1, 10, 100], 'gamma': [0.001, 0.0001],\n",
       "                          'kernel': ['rbf']},\n",
       "                         {'C': [1, 10, 100], 'kernel': ['linear']}],\n",
       "             scoring='accuracy', verbose=1)"
      ]
     },
     "execution_count": 212,
     "metadata": {},
     "output_type": "execute_result"
    }
   ],
   "source": [
    "# we define the grid search model for SVM:  cv=2 is 2-fold CV\n",
    "clf = GridSearchCV(SVC(), tuned_parameters, cv=3,\n",
    "                   scoring='accuracy', verbose=1, n_jobs=4)\n",
    "\n",
    "# train the model on the training set: \n",
    "clf.fit(X_train_norm, y_train)"
   ]
  },
  {
   "cell_type": "code",
   "execution_count": 213,
   "metadata": {},
   "outputs": [
    {
     "name": "stdout",
     "output_type": "stream",
     "text": [
      "Best parameter set found on development set:\n",
      "{'C': 100, 'kernel': 'linear'} \n",
      "\n",
      "              precision    recall  f1-score   support\n",
      "\n",
      "   immediate       0.62      0.57      0.59       126\n",
      "      yellow       0.95      0.97      0.96      1695\n",
      "       green       0.97      0.98      0.97       137\n",
      "       white       0.66      0.54      0.60       131\n",
      "\n",
      "    accuracy                           0.92      2089\n",
      "   macro avg       0.80      0.76      0.78      2089\n",
      "weighted avg       0.91      0.92      0.91      2089\n",
      "\n",
      "Confusion Matrix: \n",
      " [[  72   39    0   15]\n",
      " [  34 1636    4   21]\n",
      " [   0    3  134    0]\n",
      " [  11   49    0   71]]\n"
     ]
    }
   ],
   "source": [
    "# Show best parameters: \n",
    "print(\"Best parameter set found on development set:\")\n",
    "print(clf.best_params_, '\\n')\n",
    "\n",
    "y_pred = clf.predict(X_test_norm) #create predictions\n",
    "evaluate_on_training_set(y_test, y_pred) # evaluate like we always do"
   ]
  },
  {
   "attachments": {},
   "cell_type": "markdown",
   "metadata": {},
   "source": [
    "## Ada Boost"
   ]
  },
  {
   "cell_type": "code",
   "execution_count": 240,
   "metadata": {},
   "outputs": [],
   "source": [
    "from sklearn.ensemble import AdaBoostClassifier\n",
    "#learning rate can vary from 0 to 1; \n",
    "# and n_estimators is the number of times a model is built.\n",
    "model = AdaBoostClassifier(n_estimators=1500, learning_rate=0.06) # Define the model with parameters"
   ]
  },
  {
   "cell_type": "code",
   "execution_count": 241,
   "metadata": {},
   "outputs": [
    {
     "name": "stdout",
     "output_type": "stream",
     "text": [
      "              precision    recall  f1-score   support\n",
      "\n",
      "   immediate       0.76      0.81      0.78       126\n",
      "      yellow       1.00      0.98      0.99      1695\n",
      "       green       1.00      0.99      1.00       137\n",
      "       white       0.82      0.95      0.88       131\n",
      "\n",
      "    accuracy                           0.97      2089\n",
      "   macro avg       0.89      0.93      0.91      2089\n",
      "weighted avg       0.97      0.97      0.97      2089\n",
      "\n",
      "Confusion Matrix: \n",
      " [[ 102    3    0   21]\n",
      " [  30 1658    0    7]\n",
      " [   0    1  136    0]\n",
      " [   3    4    0  124]]\n"
     ]
    }
   ],
   "source": [
    "model.fit(X_train_norm, y_train) # Training the model\n",
    "\n",
    "y_pred = model.predict(X_test_norm) # Predicting labels for our test set using trained model\n",
    "evaluate_on_training_set(y_test, y_pred) #evaluate our model using newly defined function"
   ]
  },
  {
   "attachments": {},
   "cell_type": "markdown",
   "metadata": {},
   "source": [
    "## Random Forest"
   ]
  },
  {
   "cell_type": "code",
   "execution_count": null,
   "metadata": {},
   "outputs": [],
   "source": [
    "from sklearn.ensemble import RandomForestClassifier\n",
    "# n_estimators is how many trees there are in the model\n",
    "model = RandomForestClassifier(n_estimators = 200) # Define the model"
   ]
  },
  {
   "cell_type": "code",
   "execution_count": null,
   "metadata": {},
   "outputs": [],
   "source": [
    "model.fit(X_train_norm, y_train)\n",
    "\n",
    "y_pred = model.predict(X_test_norm)\n",
    "evaluate_on_training_set(y_test, y_pred)"
   ]
  },
  {
   "cell_type": "code",
   "execution_count": null,
   "metadata": {},
   "outputs": [],
   "source": []
  }
 ],
 "metadata": {
  "kernelspec": {
   "display_name": "base",
   "language": "python",
   "name": "python3"
  },
  "language_info": {
   "codemirror_mode": {
    "name": "ipython",
    "version": 3
   },
   "file_extension": ".py",
   "mimetype": "text/x-python",
   "name": "python",
   "nbconvert_exporter": "python",
   "pygments_lexer": "ipython3",
   "version": "3.8.3"
  },
  "vscode": {
   "interpreter": {
    "hash": "ca44a43a1e44d0e273a7d98ec8e46b09b842855749c72bc2b7650f4a8d63c062"
   }
  }
 },
 "nbformat": 4,
 "nbformat_minor": 2
}
